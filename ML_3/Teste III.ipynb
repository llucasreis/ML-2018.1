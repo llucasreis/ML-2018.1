{
 "cells": [
  {
   "cell_type": "code",
   "execution_count": 178,
   "metadata": {},
   "outputs": [],
   "source": [
    "import pandas as pd\n",
    "import numpy as np\n",
    "\n",
    "from sklearn.model_selection import train_test_split, GridSearchCV\n",
    "from sklearn.neural_network import MLPClassifier, multilayer_perceptron\n",
    "from sklearn.metrics import f1_score, precision_score, recall_score, accuracy_score\n",
    "from sklearn.preprocessing import StandardScaler"
   ]
  },
  {
   "cell_type": "code",
   "execution_count": 179,
   "metadata": {},
   "outputs": [],
   "source": [
    "data_train = pd.read_csv('data\\\\train.csv')\n",
    "data_test = pd.read_csv('data\\\\test.csv')"
   ]
  },
  {
   "cell_type": "code",
   "execution_count": 180,
   "metadata": {},
   "outputs": [],
   "source": [
    "# data_train.head()"
   ]
  },
  {
   "cell_type": "code",
   "execution_count": 181,
   "metadata": {},
   "outputs": [],
   "source": [
    "# data_test.head()"
   ]
  },
  {
   "cell_type": "code",
   "execution_count": 182,
   "metadata": {},
   "outputs": [
    {
     "data": {
      "image/png": "[encoded data removed]",
      "text/plain": [
       "<matplotlib.figure.Figure at 0x200e23c25f8>"
      ]
     },
     "metadata": {},
     "output_type": "display_data"
    }
   ],
   "source": [
    "import matplotlib.pyplot as plt\n",
    "correlations = data_train[data_train.columns[:-1]].corrwith(data_train.quality)\n",
    "# correlations = correlations.map(abs)\n",
    "correlations.sort_values(inplace=True)\n",
    "\n",
    "X_train_new = scaler.fit_transform(data_train[correlations.sort_values().iloc[-8:].index])\n",
    "X_test_new = scaler.fit_transform(data_test[correlations.sort_values().iloc[-8:].index])\n",
    "\n",
    "ax = correlations.plot(kind='bar')\n",
    "ax.set(ylim=[-1, 1], ylabel='pearson correlation');\n",
    "\n",
    "fig = plt.gcf()\n",
    "fig.set_size_inches(18.5, 10.5)\n",
    "\n",
    "plt.show()"
   ]
  },
  {
   "cell_type": "code",
   "execution_count": 183,
   "metadata": {},
   "outputs": [],
   "source": [
    "Y_id = data_test.id\n",
    "\n",
    "data_train.drop('id', axis=1, inplace=True)\n",
    "data_test.drop('id', axis=1, inplace=True)\n",
    "\n",
    "X_train, X_test, Y_train = data_train[data_train.columns[:-1]], data_test, data_train.quality \n",
    "x_train, x_test, y_train, y_test = train_test_split(X_train, Y_train, random_state=42, shuffle=True)"
   ]
  },
  {
   "cell_type": "code",
   "execution_count": 184,
   "metadata": {},
   "outputs": [],
   "source": [
    "scaler = StandardScaler()\n",
    "\n",
    "X_train_sld, X_test_sld = scaler.fit_transform(X_train), scaler.fit_transform(X_test) \n",
    "x_train_sld, x_test_sld = train_test_split(X_train_sld, random_state=42, shuffle=True)"
   ]
  },
  {
   "cell_type": "code",
   "execution_count": 185,
   "metadata": {},
   "outputs": [],
   "source": [
    "params = {'activation' : ['relu'], \n",
    "          'solver' : ['adam'],\n",
    "          'alpha' : [0.001, 1],\n",
    "          'max_iter' : [700],\n",
    "          'learning_rate' : ['adaptive'],\n",
    "          'hidden_layer_sizes' : [(100,), (500,), (1000,), (500, 500,), (1000, 1000,)]\n",
    "         }\n",
    "\n",
    "GS = GridSearchCV(MLPClassifier(), params, cv=3, scoring='f1_micro', return_train_score=False)"
   ]
  },
  {
   "cell_type": "code",
   "execution_count": 186,
   "metadata": {
    "scrolled": true
   },
   "outputs": [],
   "source": [
    "GS.fit(X_train_sld, Y_train);\n",
    "# help(GridSearchCV)\n",
    "# help(MLPClassifier)"
   ]
  },
  {
   "cell_type": "code",
   "execution_count": 187,
   "metadata": {},
   "outputs": [
    {
     "data": {
      "text/html": [
       "<div>\n",
       "<style scoped>\n",
       "    .dataframe tbody tr th:only-of-type {\n",
       "        vertical-align: middle;\n",
       "    }\n",
       "\n",
       "    .dataframe tbody tr th {\n",
       "        vertical-align: top;\n",
       "    }\n",
       "\n",
       "    .dataframe thead th {\n",
       "        text-align: right;\n",
       "    }\n",
       "</style>\n",
       "<table border=\"1\" class=\"dataframe\">\n",
       "  <thead>\n",
       "    <tr style=\"text-align: right;\">\n",
       "      <th></th>\n",
       "      <th>mean_fit_time</th>\n",
       "      <th>mean_score_time</th>\n",
       "      <th>mean_test_score</th>\n",
       "      <th>param_activation</th>\n",
       "      <th>param_alpha</th>\n",
       "      <th>param_hidden_layer_sizes</th>\n",
       "      <th>param_learning_rate</th>\n",
       "      <th>param_max_iter</th>\n",
       "      <th>param_solver</th>\n",
       "      <th>split0_test_score</th>\n",
       "      <th>split1_test_score</th>\n",
       "      <th>split2_test_score</th>\n",
       "      <th>std_fit_time</th>\n",
       "      <th>std_score_time</th>\n",
       "      <th>std_test_score</th>\n",
       "    </tr>\n",
       "  </thead>\n",
       "  <tbody>\n",
       "    <tr>\n",
       "      <th>4</th>\n",
       "      <td>138.380305</td>\n",
       "      <td>0.100681</td>\n",
       "      <td>0.589180</td>\n",
       "      <td>relu</td>\n",
       "      <td>0.001</td>\n",
       "      <td>(1000, 1000)</td>\n",
       "      <td>adaptive</td>\n",
       "      <td>700</td>\n",
       "      <td>adam</td>\n",
       "      <td>0.595787</td>\n",
       "      <td>0.592470</td>\n",
       "      <td>0.579260</td>\n",
       "      <td>16.788388</td>\n",
       "      <td>0.018908</td>\n",
       "      <td>0.007138</td>\n",
       "    </tr>\n",
       "    <tr>\n",
       "      <th>0</th>\n",
       "      <td>2.118216</td>\n",
       "      <td>0.015621</td>\n",
       "      <td>0.569606</td>\n",
       "      <td>relu</td>\n",
       "      <td>0.001</td>\n",
       "      <td>(100,)</td>\n",
       "      <td>adaptive</td>\n",
       "      <td>700</td>\n",
       "      <td>adam</td>\n",
       "      <td>0.576037</td>\n",
       "      <td>0.568692</td>\n",
       "      <td>0.564069</td>\n",
       "      <td>0.243180</td>\n",
       "      <td>0.000008</td>\n",
       "      <td>0.004930</td>\n",
       "    </tr>\n",
       "    <tr>\n",
       "      <th>3</th>\n",
       "      <td>43.383184</td>\n",
       "      <td>0.048092</td>\n",
       "      <td>0.568727</td>\n",
       "      <td>relu</td>\n",
       "      <td>0.001</td>\n",
       "      <td>(500, 500)</td>\n",
       "      <td>adaptive</td>\n",
       "      <td>700</td>\n",
       "      <td>adam</td>\n",
       "      <td>0.575379</td>\n",
       "      <td>0.569353</td>\n",
       "      <td>0.561427</td>\n",
       "      <td>3.219310</td>\n",
       "      <td>0.014272</td>\n",
       "      <td>0.005715</td>\n",
       "    </tr>\n",
       "    <tr>\n",
       "      <th>1</th>\n",
       "      <td>5.108987</td>\n",
       "      <td>0.016081</td>\n",
       "      <td>0.566088</td>\n",
       "      <td>relu</td>\n",
       "      <td>0.001</td>\n",
       "      <td>(500,)</td>\n",
       "      <td>adaptive</td>\n",
       "      <td>700</td>\n",
       "      <td>adam</td>\n",
       "      <td>0.564845</td>\n",
       "      <td>0.581242</td>\n",
       "      <td>0.552180</td>\n",
       "      <td>0.232894</td>\n",
       "      <td>0.000657</td>\n",
       "      <td>0.011891</td>\n",
       "    </tr>\n",
       "    <tr>\n",
       "      <th>6</th>\n",
       "      <td>2.560877</td>\n",
       "      <td>0.011801</td>\n",
       "      <td>0.562349</td>\n",
       "      <td>relu</td>\n",
       "      <td>1</td>\n",
       "      <td>(500,)</td>\n",
       "      <td>adaptive</td>\n",
       "      <td>700</td>\n",
       "      <td>adam</td>\n",
       "      <td>0.565504</td>\n",
       "      <td>0.566050</td>\n",
       "      <td>0.555482</td>\n",
       "      <td>0.425658</td>\n",
       "      <td>0.005392</td>\n",
       "      <td>0.004857</td>\n",
       "    </tr>\n",
       "  </tbody>\n",
       "</table>\n",
       "</div>"
      ],
      "text/plain": [
       "   mean_fit_time  mean_score_time  mean_test_score param_activation  \\\n",
       "4     138.380305         0.100681         0.589180             relu   \n",
       "0       2.118216         0.015621         0.569606             relu   \n",
       "3      43.383184         0.048092         0.568727             relu   \n",
       "1       5.108987         0.016081         0.566088             relu   \n",
       "6       2.560877         0.011801         0.562349             relu   \n",
       "\n",
       "  param_alpha param_hidden_layer_sizes param_learning_rate param_max_iter  \\\n",
       "4       0.001             (1000, 1000)            adaptive            700   \n",
       "0       0.001                   (100,)            adaptive            700   \n",
       "3       0.001               (500, 500)            adaptive            700   \n",
       "1       0.001                   (500,)            adaptive            700   \n",
       "6           1                   (500,)            adaptive            700   \n",
       "\n",
       "  param_solver  split0_test_score  split1_test_score  split2_test_score  \\\n",
       "4         adam           0.595787           0.592470           0.579260   \n",
       "0         adam           0.576037           0.568692           0.564069   \n",
       "3         adam           0.575379           0.569353           0.561427   \n",
       "1         adam           0.564845           0.581242           0.552180   \n",
       "6         adam           0.565504           0.566050           0.555482   \n",
       "\n",
       "   std_fit_time  std_score_time  std_test_score  \n",
       "4     16.788388        0.018908        0.007138  \n",
       "0      0.243180        0.000008        0.004930  \n",
       "3      3.219310        0.014272        0.005715  \n",
       "1      0.232894        0.000657        0.011891  \n",
       "6      0.425658        0.005392        0.004857  "
      ]
     },
     "execution_count": 187,
     "metadata": {},
     "output_type": "execute_result"
    }
   ],
   "source": [
    "results_df = pd.DataFrame(GS.cv_results_).drop(['params'], axis=1)\n",
    "results_df.sort_values('rank_test_score', inplace=True)\n",
    "results_df.drop(['rank_test_score'], axis=1, inplace=True)\n",
    "\n",
    "results_df.head()"
   ]
  },
  {
   "cell_type": "code",
   "execution_count": 188,
   "metadata": {
    "scrolled": true
   },
   "outputs": [],
   "source": [
    "best_model = GS.best_estimator_\n",
    "# best_model.fit(X_train_sld, Y_train)\n",
    "\n",
    "Y_pred = best_model.predict(X_test_sld)"
   ]
  },
  {
   "cell_type": "code",
   "execution_count": 189,
   "metadata": {},
   "outputs": [],
   "source": [
    "best_model.fit(x_train_sld, y_train);\n",
    "\n",
    "y_pred = best_model.predict(x_test_sld)"
   ]
  },
  {
   "cell_type": "code",
   "execution_count": 190,
   "metadata": {},
   "outputs": [
    {
     "name": "stdout",
     "output_type": "stream",
     "text": [
      "F-Score 0.5708003518029904\n"
     ]
    }
   ],
   "source": [
    "print(\"F-Score\", f1_score(y_test, y_pred, average='micro'))"
   ]
  },
  {
   "cell_type": "code",
   "execution_count": 191,
   "metadata": {},
   "outputs": [
    {
     "data": {
      "image/png": "[encoded data removed]",
      "text/plain": [
       "<matplotlib.figure.Figure at 0x200e5b424a8>"
      ]
     },
     "metadata": {},
     "output_type": "display_data"
    }
   ],
   "source": [
    "import seaborn as sns\n",
    "from sklearn.metrics import confusion_matrix\n",
    "sns.heatmap(confusion_matrix(y_test, y_pred, labels=np.arange(0, 11, 1)), fmt='d', annot=True)\n",
    "\n",
    "fig = plt.gcf()\n",
    "fig.set_size_inches(18.5, 10.5)\n",
    "\n",
    "plt.xlabel('Ground Truth', fontsize=17);\n",
    "plt.ylabel('Predicted Values', fontsize=17);\n",
    "\n",
    "# fig.savefig('matrix.png')\n",
    "plt.show()"
   ]
  },
  {
   "cell_type": "code",
   "execution_count": 192,
   "metadata": {},
   "outputs": [],
   "source": [
    "results = pd.DataFrame(data={'id' : Y_id, 'quality' : Y_pred})\n",
    "\n",
    "results.to_csv('results\\\\results_5.csv', index=False)"
   ]
  }
 ],
 "metadata": {
  "kernelspec": {
   "display_name": "Python 3",
   "language": "python",
   "name": "python3"
  },
  "language_info": {
   "codemirror_mode": {
    "name": "ipython",
    "version": 3
   },
   "file_extension": ".py",
   "mimetype": "text/x-python",
   "name": "python",
   "nbconvert_exporter": "python",
   "pygments_lexer": "ipython3",
   "version": "3.6.3"
  }
 },
 "nbformat": 4,
 "nbformat_minor": 2
}
